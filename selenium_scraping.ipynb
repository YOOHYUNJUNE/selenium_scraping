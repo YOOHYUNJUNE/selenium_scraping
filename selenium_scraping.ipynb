{
 "cells": [
  {
   "cell_type": "markdown",
   "id": "81dddefb-9136-4a37-83ae-55d9c3fa16d8",
   "metadata": {},
   "source": [
    "## 셀레니움으로 스크래핑"
   ]
  },
  {
   "cell_type": "code",
   "execution_count": 1,
   "id": "43314b9e-7e03-4dd3-8bb1-ab80e455ba99",
   "metadata": {},
   "outputs": [],
   "source": [
    "import pandas as pd \n",
    "from selenium import webdriver\n",
    "from bs4 import BeautifulSoup as bs \n",
    "import requests\n",
    "from fake_useragent import UserAgent\n",
    "pd.set_option('display.max_colwidth', None)"
   ]
  },
  {
   "cell_type": "code",
   "execution_count": 2,
   "id": "9b40c458-5aeb-477a-a0e1-4bf05a4fb75c",
   "metadata": {},
   "outputs": [],
   "source": [
    "url = 'https://www.melon.com/chart/hot100/index.htm'\n",
    "chrome_path = 'C:/Users/rnlay/.wdm/drivers/chromedriver/win64/118.0.5993.89/chromedriver.exe'\n",
    "\n",
    "options = webdriver.ChromeOptions()\n",
    "options.add_argument(f'--executable-path={chrome_path}')\n",
    "\n",
    "driver = webdriver.Chrome(options=options)\n",
    "\n",
    "driver.implicitly_wait(10)\n",
    "driver.get(url)"
   ]
  },
  {
   "cell_type": "code",
   "execution_count": 3,
   "id": "f7dcb893-c031-488f-bd37-8043bd8239d3",
   "metadata": {},
   "outputs": [],
   "source": [
    "html = driver.page_source\n",
    "soup = bs(html, 'html.parser')\n",
    "song_soup = soup.select('tbody > tr')"
   ]
  },
  {
   "cell_type": "code",
   "execution_count": 4,
   "id": "ba5fb0e4-a15a-40fd-b607-0665d693c9fd",
   "metadata": {},
   "outputs": [],
   "source": [
    "song_lst = []\n",
    "\n",
    "for song in song_soup:\n",
    "    song_title = song.find('div', class_= 'ellipsis rank01').get_text()\n",
    "    song_no = song.find('div', class_='ellipsis rank01').find('a')['href'].split(\"'\")[2]\n",
    "    song_artist = song.find('span', class_= 'checkEllipsis').get_text()\n",
    "    song_album = song.find('div', class_= 'ellipsis rank03').get_text()\n",
    "    song_likes = song.find('button', class_ = 'button_etc like').get_text()\n",
    "\n",
    "    song_lst.append([song_no,\n",
    "                     song_title.replace('\\n', ''),\n",
    "                     song_artist.replace('\\n', ''),\n",
    "                     song_album.replace('\\n', ''),\n",
    "                     song_likes.replace('\\n', '').replace('좋아요총건수', '')])"
   ]
  },
  {
   "cell_type": "code",
   "execution_count": 5,
   "id": "0013599f",
   "metadata": {},
   "outputs": [
    {
     "data": {
      "text/html": [
       "<div>\n",
       "<style scoped>\n",
       "    .dataframe tbody tr th:only-of-type {\n",
       "        vertical-align: middle;\n",
       "    }\n",
       "\n",
       "    .dataframe tbody tr th {\n",
       "        vertical-align: top;\n",
       "    }\n",
       "\n",
       "    .dataframe thead th {\n",
       "        text-align: right;\n",
       "    }\n",
       "</style>\n",
       "<table border=\"1\" class=\"dataframe\">\n",
       "  <thead>\n",
       "    <tr style=\"text-align: right;\">\n",
       "      <th></th>\n",
       "      <th>순위</th>\n",
       "      <th>곡ID</th>\n",
       "      <th>곡명</th>\n",
       "      <th>가수</th>\n",
       "      <th>앨범</th>\n",
       "      <th>좋아요</th>\n",
       "    </tr>\n",
       "  </thead>\n",
       "  <tbody>\n",
       "    <tr>\n",
       "      <th>0</th>\n",
       "      <td>1</td>\n",
       "      <td>37138469</td>\n",
       "      <td>나는 아픈 건 딱 질색이니까</td>\n",
       "      <td>(여자)아이들</td>\n",
       "      <td>2</td>\n",
       "      <td>89,083</td>\n",
       "    </tr>\n",
       "    <tr>\n",
       "      <th>1</th>\n",
       "      <td>2</td>\n",
       "      <td>37140709</td>\n",
       "      <td>첫 만남은 계획대로 되지 않아</td>\n",
       "      <td>TWS (투어스)</td>\n",
       "      <td>TWS 1st Mini Album ‘Sparkling Blue’</td>\n",
       "      <td>98,658</td>\n",
       "    </tr>\n",
       "    <tr>\n",
       "      <th>2</th>\n",
       "      <td>3</td>\n",
       "      <td>37194943</td>\n",
       "      <td>밤양갱</td>\n",
       "      <td>비비 (BIBI)</td>\n",
       "      <td>밤양갱</td>\n",
       "      <td>122,074</td>\n",
       "    </tr>\n",
       "    <tr>\n",
       "      <th>3</th>\n",
       "      <td>4</td>\n",
       "      <td>37225604</td>\n",
       "      <td>EASY</td>\n",
       "      <td>LE SSERAFIM (르세라핌)</td>\n",
       "      <td>EASY</td>\n",
       "      <td>60,757</td>\n",
       "    </tr>\n",
       "    <tr>\n",
       "      <th>4</th>\n",
       "      <td>5</td>\n",
       "      <td>37145732</td>\n",
       "      <td>Love wins all</td>\n",
       "      <td>아이유</td>\n",
       "      <td>The Winning</td>\n",
       "      <td>150,367</td>\n",
       "    </tr>\n",
       "  </tbody>\n",
       "</table>\n",
       "</div>"
      ],
      "text/plain": [
       "   순위       곡ID                곡명                  가수  \\\n",
       "0   1  37138469   나는 아픈 건 딱 질색이니까             (여자)아이들   \n",
       "1   2  37140709  첫 만남은 계획대로 되지 않아           TWS (투어스)   \n",
       "2   3  37194943               밤양갱           비비 (BIBI)   \n",
       "3   4  37225604              EASY  LE SSERAFIM (르세라핌)   \n",
       "4   5  37145732     Love wins all                 아이유   \n",
       "\n",
       "                                    앨범      좋아요  \n",
       "0                                    2   89,083  \n",
       "1  TWS 1st Mini Album ‘Sparkling Blue’   98,658  \n",
       "2                                  밤양갱  122,074  \n",
       "3                                 EASY   60,757  \n",
       "4                          The Winning  150,367  "
      ]
     },
     "execution_count": 5,
     "metadata": {},
     "output_type": "execute_result"
    }
   ],
   "source": [
    "driver.quit()\n",
    "\n",
    "df = pd.DataFrame(song_lst, columns = ['곡ID', '곡명', '가수', '앨범', '좋아요'])\n",
    "\n",
    "df['곡ID'] = df['곡ID'].str.extract(r'(\\d+)')\n",
    "df['순위'] = range(1, len(df) + 1)\n",
    "df = df[['순위', '곡ID','곡명', '가수', '앨범', '좋아요']]\n",
    "df.head()"
   ]
  },
  {
   "cell_type": "markdown",
   "id": "d564a37e",
   "metadata": {},
   "source": [
    "## 가사 추출"
   ]
  },
  {
   "cell_type": "code",
   "execution_count": 6,
   "id": "137368df-0e18-456d-b122-6d6933386907",
   "metadata": {
    "scrolled": true
   },
   "outputs": [
    {
     "data": {
      "text/html": [
       "<div>\n",
       "<style scoped>\n",
       "    .dataframe tbody tr th:only-of-type {\n",
       "        vertical-align: middle;\n",
       "    }\n",
       "\n",
       "    .dataframe tbody tr th {\n",
       "        vertical-align: top;\n",
       "    }\n",
       "\n",
       "    .dataframe thead th {\n",
       "        text-align: right;\n",
       "    }\n",
       "</style>\n",
       "<table border=\"1\" class=\"dataframe\">\n",
       "  <thead>\n",
       "    <tr style=\"text-align: right;\">\n",
       "      <th></th>\n",
       "      <th>순위</th>\n",
       "      <th>곡ID</th>\n",
       "      <th>곡명</th>\n",
       "      <th>가수</th>\n",
       "      <th>앨범</th>\n",
       "      <th>좋아요</th>\n",
       "      <th>가사</th>\n",
       "    </tr>\n",
       "  </thead>\n",
       "  <tbody>\n",
       "    <tr>\n",
       "      <th>0</th>\n",
       "      <td>1</td>\n",
       "      <td>37138469</td>\n",
       "      <td>나는 아픈 건 딱 질색이니까</td>\n",
       "      <td>(여자)아이들</td>\n",
       "      <td>2</td>\n",
       "      <td>89,083</td>\n",
       "      <td>오늘도 아침엔 입에 빵을 물고 똑같이 하루를 시작하고 온종일 한 손엔 아이스 아메리카노 피곤해 죽겠네 지하철 속 이 장면 어제 꿈에서 봤나 아참 매일이지 지나치고 바쁜 이 삶에 그냥 흔한 날에 그 애를 보고 말야 평온했던 하늘이 무너지고 어둡던 눈앞이 붉어지며 뭔가 잊고 온 게 있는 것 같아 괜히 이상하게 막 울 것만 같고 그냥 지나치는 게 나을 것 같아 나는 생각은 딱 질색이니까 카페인으로 잡은 정신은 빠졌고 하루 종일 신경 쓰여 토할 것 같아 저녁이 돼도 배고픔까지 까먹고 그치 이상하지 근데 말야 있잖아 처음 본 순간 뭐라 할까 그립달까 나도 웃긴데 말야 평온했던 하늘이 무너지고 어둡던 눈앞이 붉어지며 뭔가 잊고 온 게 있는 것 같아 괜히 이상하게 막 울 것만 같고 그냥 지나치는 게 나을 것 같아 나는 생각은 딱 질색이니까 오랫동안 나를 아는 슬픈 표정을 하고 Oh 흔적 없는 기억 밖 혹 과거에 미래에 딴 차원에 세계에 1 2 3 4 5 6 7 8 평온했던 하늘이 무너지고 어둡던 눈앞이 붉어져도 다시 놓쳐버리는 것만 같아 괜히 이상하게 막 울 것만 같고 그냥 지나치는 게 나을 것 같아 나는 생각은 딱 질색이니까 아냐 지나치는 게 나을 것 같아 나는 아픈 건 딱 질색이니까</td>\n",
       "    </tr>\n",
       "    <tr>\n",
       "      <th>1</th>\n",
       "      <td>2</td>\n",
       "      <td>37140709</td>\n",
       "      <td>첫 만남은 계획대로 되지 않아</td>\n",
       "      <td>TWS (투어스)</td>\n",
       "      <td>TWS 1st Mini Album ‘Sparkling Blue’</td>\n",
       "      <td>98,658</td>\n",
       "      <td>Ay ay ay ay ay 거울 속에 내 표정 봐 봐 느낌 So good 기다려온 D-day 연습했던 손든 인사도 그대로 하면 돼 Hairstyle check하고 한 번 Turn around 발걸음은 매일 걷던 그 길로 계획은 완벽 빨리 말 걸어보고 싶어, Hey Woo 문 앞에서 셋을 세어본다, Yeh (셋, 둘, 하나) 첫 만남은 너무 어려워 계획대로 되는 게 없어서 첫 만남은 너무 어려워 내 이름은 말야 Hey, 안녕, 첫 마디를 건넬 때 주변 소린 Canceled 네 말소리는 Playlist Yeh, 질문은 나의 용기, 알려줘 너의 “이름이 뭐야?” 너와 내 거리는 세 걸음 남았어, Yeh (셋, 둘, 하나) 첫 만남은 너무 어려워 계획대로 되는 게 없어서 첫 만남은 너무 어려워 내 이름은 말야 이 순간, Feels so wonderful 조금은 뚝딱거려도 어색한 인사까지도 너와 나의 첫 만남 우리의 사이 Beautiful 내일도 내일모레도 기억해, 영원히 반짝일 순간 Wait wait! Na na na- 이렇게 만나서 반가워 내일 또 봐 안녕</td>\n",
       "    </tr>\n",
       "  </tbody>\n",
       "</table>\n",
       "</div>"
      ],
      "text/plain": [
       "   순위       곡ID                곡명         가수  \\\n",
       "0   1  37138469   나는 아픈 건 딱 질색이니까    (여자)아이들   \n",
       "1   2  37140709  첫 만남은 계획대로 되지 않아  TWS (투어스)   \n",
       "\n",
       "                                    앨범     좋아요  \\\n",
       "0                                    2  89,083   \n",
       "1  TWS 1st Mini Album ‘Sparkling Blue’  98,658   \n",
       "\n",
       "                                                                                                                                                                                                                                                                                                                                                                                                                                                                                                                                                                                                                                  가사  \n",
       "0  오늘도 아침엔 입에 빵을 물고 똑같이 하루를 시작하고 온종일 한 손엔 아이스 아메리카노 피곤해 죽겠네 지하철 속 이 장면 어제 꿈에서 봤나 아참 매일이지 지나치고 바쁜 이 삶에 그냥 흔한 날에 그 애를 보고 말야 평온했던 하늘이 무너지고 어둡던 눈앞이 붉어지며 뭔가 잊고 온 게 있는 것 같아 괜히 이상하게 막 울 것만 같고 그냥 지나치는 게 나을 것 같아 나는 생각은 딱 질색이니까 카페인으로 잡은 정신은 빠졌고 하루 종일 신경 쓰여 토할 것 같아 저녁이 돼도 배고픔까지 까먹고 그치 이상하지 근데 말야 있잖아 처음 본 순간 뭐라 할까 그립달까 나도 웃긴데 말야 평온했던 하늘이 무너지고 어둡던 눈앞이 붉어지며 뭔가 잊고 온 게 있는 것 같아 괜히 이상하게 막 울 것만 같고 그냥 지나치는 게 나을 것 같아 나는 생각은 딱 질색이니까 오랫동안 나를 아는 슬픈 표정을 하고 Oh 흔적 없는 기억 밖 혹 과거에 미래에 딴 차원에 세계에 1 2 3 4 5 6 7 8 평온했던 하늘이 무너지고 어둡던 눈앞이 붉어져도 다시 놓쳐버리는 것만 같아 괜히 이상하게 막 울 것만 같고 그냥 지나치는 게 나을 것 같아 나는 생각은 딱 질색이니까 아냐 지나치는 게 나을 것 같아 나는 아픈 건 딱 질색이니까  \n",
       "1                                                                        Ay ay ay ay ay 거울 속에 내 표정 봐 봐 느낌 So good 기다려온 D-day 연습했던 손든 인사도 그대로 하면 돼 Hairstyle check하고 한 번 Turn around 발걸음은 매일 걷던 그 길로 계획은 완벽 빨리 말 걸어보고 싶어, Hey Woo 문 앞에서 셋을 세어본다, Yeh (셋, 둘, 하나) 첫 만남은 너무 어려워 계획대로 되는 게 없어서 첫 만남은 너무 어려워 내 이름은 말야 Hey, 안녕, 첫 마디를 건넬 때 주변 소린 Canceled 네 말소리는 Playlist Yeh, 질문은 나의 용기, 알려줘 너의 “이름이 뭐야?” 너와 내 거리는 세 걸음 남았어, Yeh (셋, 둘, 하나) 첫 만남은 너무 어려워 계획대로 되는 게 없어서 첫 만남은 너무 어려워 내 이름은 말야 이 순간, Feels so wonderful 조금은 뚝딱거려도 어색한 인사까지도 너와 나의 첫 만남 우리의 사이 Beautiful 내일도 내일모레도 기억해, 영원히 반짝일 순간 Wait wait! Na na na- 이렇게 만나서 반가워 내일 또 봐 안녕  "
      ]
     },
     "execution_count": 6,
     "metadata": {},
     "output_type": "execute_result"
    }
   ],
   "source": [
    "def get_lyrics(song_id):\n",
    "    headers = {\"user-agent\": UserAgent().chrome}\n",
    "    url = f\"https://www.melon.com/song/detail.htm?songId={song_id}\"\n",
    "    res = requests.get(url, headers=headers)\n",
    "    \n",
    "    if res.status_code == 200:\n",
    "        soup = bs(res.text, 'html.parser')\n",
    "        lyrics_tag = soup.find('div', class_='lyric')\n",
    "        \n",
    "        if lyrics_tag:\n",
    "            lyrics = lyrics_tag.get_text(separator=' ', strip=True)\n",
    "            return lyrics\n",
    "\n",
    "    return None\n",
    "\n",
    "df2 = pd.DataFrame(df)\n",
    "df2['가사'] = df2['곡ID'].apply(get_lyrics)\n",
    "df2.head(2)"
   ]
  },
  {
   "cell_type": "code",
   "execution_count": 7,
   "id": "272720b6-ea44-4608-a76a-02290a233cfc",
   "metadata": {},
   "outputs": [],
   "source": [
    "df2.to_csv(\"가사.csv\", encoding=\"utf-8-sig\")"
   ]
  },
  {
   "cell_type": "code",
   "execution_count": null,
   "id": "e86c95f8",
   "metadata": {},
   "outputs": [],
   "source": []
  },
  {
   "cell_type": "code",
   "execution_count": null,
   "id": "f2972080",
   "metadata": {},
   "outputs": [],
   "source": []
  }
 ],
 "metadata": {
  "kernelspec": {
   "display_name": "Python 3 (ipykernel)",
   "language": "python",
   "name": "python3"
  },
  "language_info": {
   "codemirror_mode": {
    "name": "ipython",
    "version": 3
   },
   "file_extension": ".py",
   "mimetype": "text/x-python",
   "name": "python",
   "nbconvert_exporter": "python",
   "pygments_lexer": "ipython3",
   "version": "3.11.4"
  }
 },
 "nbformat": 4,
 "nbformat_minor": 5
}
